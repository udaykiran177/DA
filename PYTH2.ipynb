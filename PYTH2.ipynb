{
 "cells": [
  {
   "cell_type": "code",
   "execution_count": 1,
   "id": "7988dcdd",
   "metadata": {},
   "outputs": [],
   "source": [
    "import numpy as np\n",
    "import pandas as pd"
   ]
  },
  {
   "cell_type": "code",
   "execution_count": 5,
   "id": "adf97ba8",
   "metadata": {},
   "outputs": [
    {
     "data": {
      "text/plain": [
       "array([[-2, -1],\n",
       "       [ 0,  1],\n",
       "       [ 2,  3],\n",
       "       [ 4,  5],\n",
       "       [ 6,  7]])"
      ]
     },
     "execution_count": 5,
     "metadata": {},
     "output_type": "execute_result"
    }
   ],
   "source": [
    "arr=np.array(np.arange(10)).reshape(5,2)\n",
    "\n",
    "arr+2\n",
    "\n",
    "arr-2"
   ]
  },
  {
   "cell_type": "code",
   "execution_count": 15,
   "id": "dc97d3e3",
   "metadata": {},
   "outputs": [
    {
     "data": {
      "text/plain": [
       "array([[ 60,  70],\n",
       "       [160, 195]])"
      ]
     },
     "execution_count": 15,
     "metadata": {},
     "output_type": "execute_result"
    }
   ],
   "source": [
    "arr2=np.array(np.arange(10)).reshape(2,5)\n",
    "\n",
    "arr+arr\n",
    "\n",
    "arr-arr\n",
    "\n",
    "arr2@arr"
   ]
  },
  {
   "cell_type": "code",
   "execution_count": 19,
   "id": "09a341af",
   "metadata": {},
   "outputs": [
    {
     "name": "stdout",
     "output_type": "stream",
     "text": [
      "(3, 3)\n",
      "2\n"
     ]
    }
   ],
   "source": [
    "arr1=np.array(np.arange(24)).reshape(2,3,4)\n",
    "\n",
    "# arr1.reshape(4,3,2)\n",
    "print(arr1)\n",
    "\n",
    "print(arr1.shape)\n",
    "print(arr1.ndim)"
   ]
  },
  {
   "cell_type": "code",
   "execution_count": 22,
   "id": "3a954ce4",
   "metadata": {},
   "outputs": [
    {
     "data": {
      "text/plain": [
       "matrix([[0., 0., 0.],\n",
       "        [0., 0., 0.],\n",
       "        [0., 0., 0.]])"
      ]
     },
     "execution_count": 22,
     "metadata": {},
     "output_type": "execute_result"
    }
   ],
   "source": [
    "mat=np.matrix(np.ones((3,3)))\n",
    "\n",
    "mat=np.matrix(np.zeros((3,3)))\n",
    "\n",
    "mat"
   ]
  },
  {
   "cell_type": "code",
   "execution_count": 44,
   "id": "b2398f2f",
   "metadata": {},
   "outputs": [
    {
     "data": {
      "text/plain": [
       "array([1, 2, 3, 4, 5, 6])"
      ]
     },
     "execution_count": 44,
     "metadata": {},
     "output_type": "execute_result"
    }
   ],
   "source": [
    "arr=np.array([[1,2,3],\n",
    "             [4,5,6]])\n",
    "\n",
    "print(arr.reshape(3,2))\n",
    "\n",
    "print(arr.flatten())"
   ]
  },
  {
   "cell_type": "code",
   "execution_count": 103,
   "id": "aa96fd40",
   "metadata": {},
   "outputs": [
    {
     "name": "stdout",
     "output_type": "stream",
     "text": [
      "[[1 2 3 2]\n",
      " [4 5 6 3]]\n",
      "[[ 1  2  3]\n",
      " [ 4  5  6]\n",
      " [10 11 12]]\n"
     ]
    }
   ],
   "source": [
    "arr=np.array([[1,2,3],\n",
    "             [4,5,6]])\n",
    "arr2=np.array([2,3]).reshape(2,1)\n",
    "\n",
    "# arr2.reshape(3,1)\n",
    "\n",
    "print(np.append(arr,arr2,axis=1))\n",
    "\n",
    "arr3=np.array([10,11,12]).reshape(1,3)\n",
    "\n",
    "print(np.append(arr,arr3,axis=0))"
   ]
  },
  {
   "cell_type": "code",
   "execution_count": 81,
   "id": "3e9af008",
   "metadata": {},
   "outputs": [
    {
     "name": "stdout",
     "output_type": "stream",
     "text": [
      "2\n",
      "[[2 3]\n",
      " [5 6]]\n"
     ]
    }
   ],
   "source": [
    "print(arr[0][1])\n",
    "\n",
    "print(arr[0:,1:])"
   ]
  },
  {
   "cell_type": "code",
   "execution_count": 93,
   "id": "625478fe",
   "metadata": {},
   "outputs": [
    {
     "name": "stdout",
     "output_type": "stream",
     "text": [
      "max 6 ,min 1 ,mean 3.5 ,median 3.5 ,standard deviation 1.707825127659933\n"
     ]
    }
   ],
   "source": [
    "print(\n",
    "\"max\",np.max(arr)\n",
    "\n",
    ",\",min\",np.min(arr)\n",
    "\n",
    ",\",mean\",np.mean(arr)\n",
    "\n",
    ",\",median\",np.median(arr)\n",
    "\n",
    ",\",standard deviation\",np.std(arr))"
   ]
  },
  {
   "cell_type": "code",
   "execution_count": 96,
   "id": "4b592fa1",
   "metadata": {},
   "outputs": [
    {
     "name": "stdout",
     "output_type": "stream",
     "text": [
      "[[ 60  70]\n",
      " [160 195]]\n",
      "[[ 60  70]\n",
      " [160 195]]\n"
     ]
    }
   ],
   "source": [
    "arr1=np.arange(10).reshape(2,5)\n",
    "arr2=np.arange(10).reshape(5,2)\n",
    "\n",
    "print(np.dot(arr1,arr2))\n",
    "\n",
    "print(arr1@arr2)\n"
   ]
  },
  {
   "cell_type": "code",
   "execution_count": 104,
   "id": "f2da1bf0",
   "metadata": {
    "scrolled": true
   },
   "outputs": [
    {
     "data": {
      "text/plain": [
       "(array([ 1.93923048e+01, -1.39230485e+00,  6.86419704e-16]),\n",
       " array([[ 0.19047623,  0.6835874 ,  0.40824829],\n",
       "        [ 0.42237766,  0.22419772, -0.81649658],\n",
       "        [ 0.88618052, -0.69458163,  0.40824829]]))"
      ]
     },
     "execution_count": 104,
     "metadata": {},
     "output_type": "execute_result"
    }
   ],
   "source": [
    "arr5=np.array([[ 1 , 2 , 3],\n",
    " [ 4 , 5 , 6],\n",
    " [10, 11 ,12]])\n",
    "\n",
    "np.linalg.eig(arr5)"
   ]
  },
  {
   "cell_type": "code",
   "execution_count": 127,
   "id": "07ef1c0e",
   "metadata": {},
   "outputs": [
    {
     "data": {
      "text/plain": [
       "array([[1, 0, 0],\n",
       "       [0, 1, 0],\n",
       "       [0, 0, 1]])"
      ]
     },
     "execution_count": 127,
     "metadata": {},
     "output_type": "execute_result"
    }
   ],
   "source": [
    "arr=np.arange(9).reshape(3,3)\n",
    "\n",
    "print(np.linalg.det(arr))\n",
    "\n",
    "inv=np.diag((1,1,1))"
   ]
  },
  {
   "cell_type": "code",
   "execution_count": 130,
   "id": "87a17439",
   "metadata": {},
   "outputs": [
    {
     "data": {
      "text/plain": [
       "dict_values([1, 3])"
      ]
     },
     "execution_count": 130,
     "metadata": {},
     "output_type": "execute_result"
    }
   ],
   "source": []
  }
 ],
 "metadata": {
  "kernelspec": {
   "display_name": "Python 3 (ipykernel)",
   "language": "python",
   "name": "python3"
  },
  "language_info": {
   "codemirror_mode": {
    "name": "ipython",
    "version": 3
   },
   "file_extension": ".py",
   "mimetype": "text/x-python",
   "name": "python",
   "nbconvert_exporter": "python",
   "pygments_lexer": "ipython3",
   "version": "3.9.7"
  }
 },
 "nbformat": 4,
 "nbformat_minor": 5
}
